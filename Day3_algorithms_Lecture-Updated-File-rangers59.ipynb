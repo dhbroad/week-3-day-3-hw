{
 "cells": [
  {
   "cell_type": "markdown",
   "metadata": {},
   "source": [
    "# Algorithms, Binary Search & Linked Lists"
   ]
  },
  {
   "cell_type": "markdown",
   "metadata": {},
   "source": [
    "## Tasks Today:\n",
    " \n",
    "1) <b>In-Place Algorithms</b> <br>\n",
    " &nbsp;&nbsp;&nbsp;&nbsp; a) Syntax <br>\n",
    " &nbsp;&nbsp;&nbsp;&nbsp; a) Out of Place Algorithm <br>\n",
    " &nbsp;&nbsp;&nbsp;&nbsp; b) In-Class Exercise #1 <br>\n",
    "2) <b>Two Pointers</b> <br>\n",
    "3) <b>Linked Lists</b> <br>\n",
    "4) <b>Merge Sort</b> <br>\n",
    " &nbsp;&nbsp;&nbsp;&nbsp; a) Video on Algorithms <br>\n",
    " &nbsp;&nbsp;&nbsp;&nbsp; b) How it Works <br>\n",
    "5) <b>Exercises</b> <br>\n",
    " &nbsp;&nbsp;&nbsp;&nbsp; a) Exercise #1 - Reverse a List in Place Using an In-Place Algorithm <br>\n",
    " &nbsp;&nbsp;&nbsp;&nbsp; b) Exercise #2 - Find Distinct Words <br>\n",
    " &nbsp;&nbsp;&nbsp;&nbsp; c) Exercise #3 - Write a program to implement a Linear Search Algorithm. <br>"
   ]
  },
  {
   "cell_type": "markdown",
   "metadata": {},
   "source": [
    "## In-Place Algorithms"
   ]
  },
  {
   "cell_type": "markdown",
   "metadata": {},
   "source": [
    "#### Syntax"
   ]
  },
  {
   "cell_type": "code",
   "execution_count": null,
   "metadata": {},
   "outputs": [],
   "source": []
  },
  {
   "cell_type": "markdown",
   "metadata": {},
   "source": [
    "#### Out of Place Algorithm"
   ]
  },
  {
   "cell_type": "code",
   "execution_count": null,
   "metadata": {},
   "outputs": [],
   "source": [
    "\n"
   ]
  },
  {
   "cell_type": "markdown",
   "metadata": {},
   "source": [
    "#### In-Class Exercise #1 <br>\n",
    "<p>Write a function that takes in four arguments (list, index1, index2, index3), and swaps those three positions in the list passed in.</p>"
   ]
  },
  {
   "cell_type": "code",
   "execution_count": 3,
   "metadata": {},
   "outputs": [
    {
     "name": "stdout",
     "output_type": "stream",
     "text": [
      "[3, 4, 8, 10, 4, 2, 6]\n"
     ]
    }
   ],
   "source": [
    "l_1 = [10, 4, 3, 8, 4, 2, 6]\n",
    "\n",
    "def swap3(alist,x,y,z): #takes in list since it's in place\n",
    "    alist[x],alist[y],alist[z] = alist[z],alist[x],alist[y]\n",
    "    return alist\n",
    "\n",
    "print(swap3(l_1,2,0,3))\n",
    "\n"
   ]
  },
  {
   "cell_type": "markdown",
   "metadata": {},
   "source": [
    "## Two Pointers"
   ]
  },
  {
   "cell_type": "markdown",
   "metadata": {},
   "source": [
    "#### Syntax"
   ]
  },
  {
   "cell_type": "code",
   "execution_count": null,
   "metadata": {},
   "outputs": [],
   "source": []
  },
  {
   "cell_type": "markdown",
   "metadata": {},
   "source": [
    "#### Video of Algorithms <br>\n",
    "<p>Watch the video about algorithms.</p>\n",
    "\n",
    "https://www.youtube.com/watch?v=Q9HjeFD62Uk\n",
    "\n",
    "https://www.youtube.com/watch?v=kPRA0W1kECg\n",
    "\n",
    "https://www.youtube.com/watch?v=ZZuD6iUe3Pc"
   ]
  },
  {
   "cell_type": "markdown",
   "metadata": {},
   "source": [
    "# Sorting Algorithms"
   ]
  },
  {
   "cell_type": "markdown",
   "metadata": {},
   "source": [
    "#### Bubble Sort\n",
    "\n",
    "Worst Case: O(n^2) Time - O(1) Space"
   ]
  },
  {
   "cell_type": "code",
   "execution_count": 6,
   "metadata": {},
   "outputs": [
    {
     "name": "stdout",
     "output_type": "stream",
     "text": [
      "[1, 4, 2, 7, 9, 10, 13, 17]\n"
     ]
    }
   ],
   "source": [
    "def swap(list1,x,y):\n",
    "    list1[x], list1[y] = list1[y], list1[x]\n",
    "\n",
    "def bubbleSort(nums):\n",
    "    isSorted=False\n",
    "    count=0\n",
    "    while isSorted == False:\n",
    "        performSwap = False\n",
    "        for i in range(len(nums)-1-count): # -count decreases the right limit each loop\n",
    "            #if right is small, swap\n",
    "            if nums[i] > nums [i+1]:\n",
    "                swap(nums, i, i+1)\n",
    "                performSwap=True\n",
    "        if performSwap == True:\n",
    "            isSorted = True\n",
    "        count +=1\n",
    "        if count == len(nums)-1:\n",
    "            isSorted = True\n",
    "\n",
    "my_list = [1,7,4,2,9,10,13,17]\n",
    "bubbleSort(my_list)\n",
    "print(my_list)"
   ]
  },
  {
   "cell_type": "markdown",
   "metadata": {},
   "source": [
    "##### Insertion Sort\n",
    "\n",
    "Worst Case: O(n^2) time - O(1)space"
   ]
  },
  {
   "cell_type": "code",
   "execution_count": null,
   "metadata": {},
   "outputs": [],
   "source": []
  },
  {
   "cell_type": "markdown",
   "metadata": {},
   "source": [
    "## Merge Sort"
   ]
  },
  {
   "cell_type": "markdown",
   "metadata": {},
   "source": [
    "#### How it Works"
   ]
  },
  {
   "cell_type": "code",
   "execution_count": 15,
   "metadata": {},
   "outputs": [
    {
     "name": "stdout",
     "output_type": "stream",
     "text": [
      "[1, 2, 4, 7, 9, 10, 13, 17]\n"
     ]
    }
   ],
   "source": [
    "def mergeSort(nums):\n",
    "    #step 1; divide into equal halfs. If it is not equal, split the bigger side to the left\n",
    "    if len(nums)>1:\n",
    "        mid = len(nums)//2\n",
    "        left_half = nums[:mid]\n",
    "        right_half = nums[mid:]\n",
    "\n",
    "        # recursively split the left and right halves if needed\n",
    "        mergeSort(left_half)\n",
    "        mergeSort(right_half)\n",
    "    \n",
    "        #we'll use counters to keep track of things\n",
    "        # i to keep track of left half of the last split\n",
    "        # j to keep track of the right half of the last split to the right\n",
    "        # k to keep track of the main overall list\n",
    "        i = 0\n",
    "        j = 0\n",
    "        k = 0\n",
    "\n",
    "        # now we merge the lists:\n",
    "        while i < len(left_half) and j < len(right_half):\n",
    "            if left_half[i] < right_half[j]:\n",
    "                nums[k] = left_half[i]\n",
    "                i+=1\n",
    "            else:\n",
    "                nums[k] = right_half[j]\n",
    "                j+=1\n",
    "            k+=1 # <- outside of the if/else because it will happen in either case. Dont repeat yourself DRY\n",
    "\n",
    "            # when one side finishes, place the other list into the main list\n",
    "\n",
    "            # left_half finish\n",
    "        while i < len(left_half):\n",
    "            nums[k] = left_half[i]\n",
    "            i+=1\n",
    "            k+=1\n",
    "\n",
    "        #right_half finish\n",
    "        while j < len(right_half):\n",
    "            nums[k] = right_half[j]\n",
    "            j+=1\n",
    "            k+=1\n",
    "\n",
    "    return # <- will return a list of length 1 because we've split until len(nums) = 1\n",
    "\n",
    "my_list = [1,7,4,2,9,10,13,17]\n",
    "mergeSort(my_list)\n",
    "print(my_list)"
   ]
  },
  {
   "cell_type": "markdown",
   "metadata": {},
   "source": [
    "# Binary Search\n",
    "\n",
    "The Binary Search algorithm works by finding the number in the middle of a given array and comparing it to the target. Given that the array is sorted\n",
    "\n",
    "* The worst case run time for this algorithm is `O(log(n))`"
   ]
  },
  {
   "cell_type": "code",
   "execution_count": 16,
   "metadata": {},
   "outputs": [
    {
     "data": {
      "text/plain": [
       "'I found my match 53 at index 4'"
      ]
     },
     "execution_count": 16,
     "metadata": {},
     "output_type": "execute_result"
    }
   ],
   "source": [
    "def binarySearch(list1, target, left_b, right_b): # target is what you're looking for\n",
    "    while left_b < right_b:\n",
    "        middle = (left_b + right_b)//2\n",
    "        potential_match = list1[middle]\n",
    "        if target == potential_match:\n",
    "            return f\"I found my match {potential_match} at index {middle}\"\n",
    "        elif target < potential_match:\n",
    "            right_b = middle -1\n",
    "        else: left_b = middle+1\n",
    "\n",
    "    return \"Not found\"\n",
    "\n",
    "x = sorted([1,2,3,4,53,8876,213,123,142312,987,3642,978,2345,8657,34567,98,])\n",
    "binarySearch(x, 53, 0, len(x))"
   ]
  },
  {
   "cell_type": "markdown",
   "metadata": {},
   "source": [
    "# Exercises"
   ]
  },
  {
   "cell_type": "markdown",
   "metadata": {},
   "source": [
    "### Exercise #1 <br>\n",
    "<p>Reverse the list below in-place using an in-place algorithm.<br>For extra credit: Reverse the strings at the same time.</p>"
   ]
  },
  {
   "cell_type": "code",
   "execution_count": 56,
   "metadata": {},
   "outputs": [
    {
     "name": "stdout",
     "output_type": "stream",
     "text": [
      "['.', 'ecnetnes', 'a', 'si', 'siht']\n"
     ]
    }
   ],
   "source": [
    "words = ['this' , 'is', 'a', 'sentence', '.']\n",
    "\n",
    "def reverseList(alist):\n",
    "    left = 0\n",
    "    right = len(alist) - 1\n",
    "    while left <= right: \n",
    "        if len(alist[left]) > 1:   \n",
    "            new_left = \"\"         \n",
    "            for index in range(len(alist[left])):\n",
    "                new_left += alist[left][len(alist[left])-1-index]\n",
    "            alist[left] = new_left\n",
    "        if len(alist[right]) > 1:   \n",
    "            new_right = \"\"         \n",
    "            for index in range(len(alist[right])):\n",
    "                new_right += alist[right][len(alist[right])-1-index]\n",
    "            alist[right] = new_right\n",
    "              \n",
    "        alist[left], alist[right] = alist[right],alist[left]\n",
    "        left += 1\n",
    "        right -= 1\n",
    "\n",
    "reverseList(words)\n",
    "print(words)\n"
   ]
  },
  {
   "cell_type": "markdown",
   "metadata": {},
   "source": [
    "### Exercise #2 <br>\n",
    "<p>Create a function that counts how many distinct words are in the string below, then outputs a dictionary with the words as the key and the value as the amount of times that word appears in the string.<br>Should output:<br>{'a': 5,<br>\n",
    " 'abstract': 1,<br>\n",
    " 'an': 3,<br>\n",
    " 'array': 2, ... etc...</p>"
   ]
  },
  {
   "cell_type": "code",
   "execution_count": 34,
   "metadata": {},
   "outputs": [
    {
     "data": {
      "text/plain": [
       "{'a': 5,\n",
       " 'abstract': 1,\n",
       " 'an': 3,\n",
       " 'array': 2,\n",
       " 'associative': 1,\n",
       " 'be': 1,\n",
       " 'buckets': 1,\n",
       " 'can': 2,\n",
       " 'compute': 1,\n",
       " 'computing,': 1,\n",
       " 'data': 2,\n",
       " 'desired': 1,\n",
       " 'found': 1,\n",
       " 'from': 1,\n",
       " 'function': 1,\n",
       " 'hash': 4,\n",
       " 'implements': 1,\n",
       " 'in': 1,\n",
       " 'index': 1,\n",
       " 'into': 1,\n",
       " 'is': 1,\n",
       " 'keys': 1,\n",
       " 'map': 2,\n",
       " 'of': 1,\n",
       " 'or': 1,\n",
       " 'slots': 1,\n",
       " 'structure': 2,\n",
       " 'table': 2,\n",
       " 'that': 1,\n",
       " 'the': 1,\n",
       " 'to': 2,\n",
       " 'type,': 1,\n",
       " 'uses': 1,\n",
       " 'value': 1,\n",
       " 'values.': 1,\n",
       " 'which': 2}"
      ]
     },
     "execution_count": 34,
     "metadata": {},
     "output_type": "execute_result"
    }
   ],
   "source": [
    "a_text = 'In computing, a hash table hash map is a data structure which implements an associative array abstract data type, a structure that can map keys to values. A hash table uses a hash function to compute an index into an array of buckets or slots from which the desired value can be found'\n",
    "\n",
    "def stringToDict(astring):\n",
    "    lower_string = astring.lower()\n",
    "    alist = sorted(list(lower_string.split(\" \")))\n",
    "    my_dict={}\n",
    "    for words in alist:\n",
    "        if words not in my_dict:            \n",
    "            my_dict[words] = alist.count(words)\n",
    "    return my_dict\n",
    "\n",
    "stringToDict(a_text)\n"
   ]
  },
  {
   "cell_type": "markdown",
   "metadata": {},
   "source": [
    "## Exercise #3\n",
    "\n",
    "Write a program to implement a Linear Search Algorithm. Also in a comment, write the Time Complexity of the following algorithm.\n",
    "\n",
    "#### Hint: Linear Searching will require searching a list for a given number. "
   ]
  },
  {
   "cell_type": "code",
   "execution_count": 46,
   "metadata": {},
   "outputs": [
    {
     "name": "stdout",
     "output_type": "stream",
     "text": [
      "5 was found at list index 4\n"
     ]
    }
   ],
   "source": [
    "def linSearch(num,alist):\n",
    "    for index in range(len(alist)):\n",
    "        if alist[index] == num:\n",
    "            return f'{num} was found at list index {index}'\n",
    "        \n",
    "\n",
    "a_list = [1,2,3,4,5,6,7,8,5]\n",
    "print(linSearch(5,a_list))\n",
    "# Time complexity: Linear, i.e. O(n)"
   ]
  }
 ],
 "metadata": {
  "kernelspec": {
   "display_name": "Python 3",
   "language": "python",
   "name": "python3"
  },
  "language_info": {
   "codemirror_mode": {
    "name": "ipython",
    "version": 3
   },
   "file_extension": ".py",
   "mimetype": "text/x-python",
   "name": "python",
   "nbconvert_exporter": "python",
   "pygments_lexer": "ipython3",
   "version": "3.9.10"
  }
 },
 "nbformat": 4,
 "nbformat_minor": 2
}
